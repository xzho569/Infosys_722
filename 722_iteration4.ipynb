{
 "cells": [
  {
   "cell_type": "code",
   "execution_count": 1,
   "metadata": {},
   "outputs": [],
   "source": [
    "import findspark\n",
    "findspark.init('/home/ubuntu/spark-2.1.1-bin-hadoop2.7')\n",
    "import pyspark\n",
    "from pyspark.sql import SparkSession\n",
    "\n",
    "import pandas \n",
    "import seaborn as sns\n",
    "import matplotlib.pyplot as plt\n",
    "import numpy as np\n",
    "from pyspark.sql.functions import * \n",
    "\n",
    "spark = SparkSession.builder.appName('Info_722').getOrCreate()\n"
   ]
  },
  {
   "cell_type": "code",
   "execution_count": 7,
   "metadata": {},
   "outputs": [
    {
     "data": {
      "text/plain": [
       "['Accident_Index',\n",
       " 'Location_Easting_OSGR',\n",
       " 'Location_Northing_OSGR',\n",
       " 'Longitude',\n",
       " 'Latitude',\n",
       " 'Police_Force',\n",
       " 'Accident_Severity',\n",
       " 'Number_of_Vehicles',\n",
       " 'Number_of_Casualties',\n",
       " 'Date',\n",
       " 'Day_of_Week',\n",
       " 'Time',\n",
       " 'Local_Authority_(District)',\n",
       " 'Local_Authority_(Highway)',\n",
       " '1st_Road_Class',\n",
       " '1st_Road_Number',\n",
       " 'Road_Type',\n",
       " 'Speed_limit',\n",
       " 'Junction_Detail',\n",
       " 'Junction_Control',\n",
       " '2nd_Road_Class',\n",
       " '2nd_Road_Number',\n",
       " 'Pedestrian_Crossing-Human_Control',\n",
       " 'Pedestrian_Crossing-Physical_Facilities',\n",
       " 'Light_Conditions',\n",
       " 'Weather_Conditions',\n",
       " 'Road_Surface_Conditions',\n",
       " 'Special_Conditions_at_Site',\n",
       " 'Carriageway_Hazards',\n",
       " 'Urban_or_Rural_Area',\n",
       " 'Did_Police_Officer_Attend_Scene_of_Accident',\n",
       " 'LSOA_of_Accident_Location']"
      ]
     },
     "execution_count": 7,
     "metadata": {},
     "output_type": "execute_result"
    }
   ],
   "source": [
    "dfacc = spark.read.load(\"./Accidents_2016.csv\",format=\"csv\",header=\"true\")\n",
    "dfacc.columns\n",
    "#dfacc.count()\n",
    "#print(len(dfacc.columns))"
   ]
  },
  {
   "cell_type": "code",
   "execution_count": 8,
   "metadata": {},
   "outputs": [
    {
     "data": {
      "text/plain": [
       "['Accident_Index',\n",
       " 'Vehicle_Reference',\n",
       " 'Casualty_Reference',\n",
       " 'Casualty_Class',\n",
       " 'Sex_of_Casualty',\n",
       " 'Age_of_Casualty',\n",
       " 'Age_Band_of_Casualty',\n",
       " 'Casualty_Severity',\n",
       " 'Pedestrian_Location',\n",
       " 'Pedestrian_Movement',\n",
       " 'Car_Passenger',\n",
       " 'Bus_or_Coach_Passenger',\n",
       " 'Pedestrian_Road_Maintenance_Worker',\n",
       " 'Casualty_Type',\n",
       " 'Casualty_Home_Area_Type',\n",
       " 'Casualty_IMD_Decile']"
      ]
     },
     "execution_count": 8,
     "metadata": {},
     "output_type": "execute_result"
    }
   ],
   "source": [
    "dfcas = spark.read.load(\"./Cas.csv\",format=\"csv\",header=\"true\")\n",
    "dfcas.columns\n",
    "#dfcas.count()\n",
    "#print(len(dfcas.columns))"
   ]
  },
  {
   "cell_type": "code",
   "execution_count": 9,
   "metadata": {},
   "outputs": [
    {
     "name": "stdout",
     "output_type": "stream",
     "text": [
      "root\n",
      " |-- Accident_Index: string (nullable = true)\n",
      " |-- Location_Easting_OSGR: string (nullable = true)\n",
      " |-- Location_Northing_OSGR: string (nullable = true)\n",
      " |-- Longitude: string (nullable = true)\n",
      " |-- Latitude: string (nullable = true)\n",
      " |-- Police_Force: string (nullable = true)\n",
      " |-- Accident_Severity: string (nullable = true)\n",
      " |-- Number_of_Vehicles: string (nullable = true)\n",
      " |-- Number_of_Casualties: string (nullable = true)\n",
      " |-- Date: string (nullable = true)\n",
      " |-- Day_of_Week: string (nullable = true)\n",
      " |-- Time: string (nullable = true)\n",
      " |-- Local_Authority_(District): string (nullable = true)\n",
      " |-- Local_Authority_(Highway): string (nullable = true)\n",
      " |-- 1st_Road_Class: string (nullable = true)\n",
      " |-- 1st_Road_Number: string (nullable = true)\n",
      " |-- Road_Type: string (nullable = true)\n",
      " |-- Speed_limit: string (nullable = true)\n",
      " |-- Junction_Detail: string (nullable = true)\n",
      " |-- Junction_Control: string (nullable = true)\n",
      " |-- 2nd_Road_Class: string (nullable = true)\n",
      " |-- 2nd_Road_Number: string (nullable = true)\n",
      " |-- Pedestrian_Crossing-Human_Control: string (nullable = true)\n",
      " |-- Pedestrian_Crossing-Physical_Facilities: string (nullable = true)\n",
      " |-- Light_Conditions: string (nullable = true)\n",
      " |-- Weather_Conditions: string (nullable = true)\n",
      " |-- Road_Surface_Conditions: string (nullable = true)\n",
      " |-- Special_Conditions_at_Site: string (nullable = true)\n",
      " |-- Carriageway_Hazards: string (nullable = true)\n",
      " |-- Urban_or_Rural_Area: string (nullable = true)\n",
      " |-- Did_Police_Officer_Attend_Scene_of_Accident: string (nullable = true)\n",
      " |-- LSOA_of_Accident_Location: string (nullable = true)\n",
      "\n"
     ]
    }
   ],
   "source": [
    "dfacc.printSchema()"
   ]
  },
  {
   "cell_type": "code",
   "execution_count": 10,
   "metadata": {},
   "outputs": [
    {
     "name": "stdout",
     "output_type": "stream",
     "text": [
      "root\n",
      " |-- Accident_Index: string (nullable = true)\n",
      " |-- Vehicle_Reference: string (nullable = true)\n",
      " |-- Casualty_Reference: string (nullable = true)\n",
      " |-- Casualty_Class: string (nullable = true)\n",
      " |-- Sex_of_Casualty: string (nullable = true)\n",
      " |-- Age_of_Casualty: string (nullable = true)\n",
      " |-- Age_Band_of_Casualty: string (nullable = true)\n",
      " |-- Casualty_Severity: string (nullable = true)\n",
      " |-- Pedestrian_Location: string (nullable = true)\n",
      " |-- Pedestrian_Movement: string (nullable = true)\n",
      " |-- Car_Passenger: string (nullable = true)\n",
      " |-- Bus_or_Coach_Passenger: string (nullable = true)\n",
      " |-- Pedestrian_Road_Maintenance_Worker: string (nullable = true)\n",
      " |-- Casualty_Type: string (nullable = true)\n",
      " |-- Casualty_Home_Area_Type: string (nullable = true)\n",
      " |-- Casualty_IMD_Decile: string (nullable = true)\n",
      "\n"
     ]
    }
   ],
   "source": [
    "dfcas.printSchema()"
   ]
  },
  {
   "cell_type": "code",
   "execution_count": 12,
   "metadata": {},
   "outputs": [
    {
     "data": {
      "text/plain": [
       "136621"
      ]
     },
     "execution_count": 12,
     "metadata": {},
     "output_type": "execute_result"
    }
   ],
   "source": [
    "# 2.4 verified data quality\n",
    "\n",
    "dfacc.count()"
   ]
  },
  {
   "cell_type": "code",
   "execution_count": 13,
   "metadata": {},
   "outputs": [
    {
     "data": {
      "text/plain": [
       "128268"
      ]
     },
     "execution_count": 13,
     "metadata": {},
     "output_type": "execute_result"
    }
   ],
   "source": [
    "dfacc.na.drop().count()"
   ]
  },
  {
   "cell_type": "code",
   "execution_count": 14,
   "metadata": {},
   "outputs": [
    {
     "data": {
      "text/plain": [
       "181384"
      ]
     },
     "execution_count": 14,
     "metadata": {},
     "output_type": "execute_result"
    }
   ],
   "source": [
    "dfcas.count()"
   ]
  },
  {
   "cell_type": "code",
   "execution_count": 15,
   "metadata": {},
   "outputs": [
    {
     "data": {
      "text/plain": [
       "181384"
      ]
     },
     "execution_count": 15,
     "metadata": {},
     "output_type": "execute_result"
    }
   ],
   "source": [
    "dfcas.na.drop().count()"
   ]
  },
  {
   "cell_type": "code",
   "execution_count": 16,
   "metadata": {},
   "outputs": [
    {
     "name": "stdout",
     "output_type": "stream",
     "text": [
      "root\n",
      " |-- Location_Easting_OSGR: double (nullable = true)\n",
      " |-- Location_Northing_OSGR: double (nullable = true)\n",
      " |-- Longitude: double (nullable = true)\n",
      " |-- Latitude: double (nullable = true)\n",
      " |-- Number_of_Vehicles: double (nullable = true)\n",
      " |-- Number_of_Casualties: double (nullable = true)\n",
      " |-- Day_of_Week: double (nullable = true)\n",
      " |-- Local_Authority_(District): double (nullable = true)\n",
      " |-- 1st_Road_Number: double (nullable = true)\n",
      " |-- Speed_limit: double (nullable = true)\n",
      " |-- Junction_Detail: double (nullable = true)\n",
      " |-- Junction_Control: double (nullable = true)\n",
      " |-- 2nd_Road_Number: double (nullable = true)\n",
      " |-- Did_Police_Officer_Attend_Scene_of_Accident: double (nullable = true)\n",
      "\n",
      "Location_Easting_OSGR                             0\n",
      "Location_Northing_OSGR                           26\n",
      "Longitude                                         0\n",
      "Latitude                                         26\n",
      "Number_of_Vehicles                              122\n",
      "Number_of_Casualties                           3322\n",
      "Day_of_Week                                       0\n",
      "Local_Authority_(District)                        0\n",
      "1st_Road_Number                                   0\n",
      "Speed_limit                                       0\n",
      "Junction_Detail                                   0\n",
      "Junction_Control                                  0\n",
      "2nd_Road_Number                                9323\n",
      "Did_Police_Officer_Attend_Scene_of_Accident       0\n",
      "dtype: int64\n"
     ]
    }
   ],
   "source": [
    "  #outlier detect & 3.5 reformat data\n",
    "\n",
    "from pyspark.sql.types import DoubleType\n",
    "\n",
    "for t in ['Location_Easting_OSGR','Location_Northing_OSGR','Longitude','Latitude','Number_of_Vehicles',\n",
    "          'Number_of_Casualties','Day_of_Week','Local_Authority_(District)','1st_Road_Number','Speed_limit',\n",
    "          'Junction_Detail','Junction_Control','2nd_Road_Number','Did_Police_Officer_Attend_Scene_of_Accident']:\n",
    "    dfacc = dfacc.withColumn(t, dfacc[t].cast(DoubleType()))\n",
    "\n",
    "dfacc_outlier = dfacc.select('Location_Easting_OSGR','Location_Northing_OSGR','Longitude','Latitude',\n",
    "                             'Number_of_Vehicles','Number_of_Casualties','Day_of_Week','Local_Authority_(District)',\n",
    "                             '1st_Road_Number','Speed_limit','Junction_Detail','Junction_Control','2nd_Road_Number',\n",
    "                             'Did_Police_Officer_Attend_Scene_of_Accident')\n",
    "\n",
    "dfacc_outlier.printSchema()\n",
    "\n",
    "dfacc_outlier = dfacc_outlier.toPandas()\n",
    "\n",
    "Q1 = dfacc_outlier.quantile(0.1)\n",
    "Q3 = dfacc_outlier.quantile(0.9)\n",
    "IQR = Q3 - Q1\n",
    "print(((dfacc_outlier < (Q1 - 1.5 * IQR)) | (dfacc_outlier > (Q3 + 1.5 * IQR))).sum())\n"
   ]
  },
  {
   "cell_type": "code",
   "execution_count": 17,
   "metadata": {},
   "outputs": [
    {
     "name": "stdout",
     "output_type": "stream",
     "text": [
      "root\n",
      " |-- Casualty_Reference: double (nullable = true)\n",
      " |-- Age_of_Casualty: double (nullable = true)\n",
      " |-- Age_Band_of_Casualty: double (nullable = true)\n",
      " |-- Pedestrian_Road_Maintenance_Worker: double (nullable = true)\n",
      "\n",
      "Casualty_Reference                    5965\n",
      "Age_of_Casualty                          0\n",
      "Age_Band_of_Casualty                     0\n",
      "Pedestrian_Road_Maintenance_Worker    6605\n",
      "dtype: int64\n"
     ]
    }
   ],
   "source": [
    "\n",
    "for t in ['Casualty_Reference','Age_of_Casualty','Age_Band_of_Casualty','Pedestrian_Road_Maintenance_Worker']:\n",
    "    dfcas = dfcas.withColumn(t, dfcas[t].cast(DoubleType()))\n",
    "dfcas_outlier = dfcas.select('Casualty_Reference','Age_of_Casualty','Age_Band_of_Casualty',\n",
    "                             'Pedestrian_Road_Maintenance_Worker')\n",
    "\n",
    "dfcas_outlier.printSchema()\n",
    "\n",
    "dfcas_outlier = dfcas_outlier.toPandas()\n",
    "\n",
    "Q1 = dfcas_outlier.quantile(0.1)\n",
    "Q3 = dfcas_outlier.quantile(0.9)\n",
    "IQR = Q3 - Q1\n",
    "print(((dfcas_outlier < (Q1 - 1.5 * IQR)) | (dfcas_outlier > (Q3 + 1.5 * IQR))).sum())\n"
   ]
  },
  {
   "cell_type": "code",
   "execution_count": 18,
   "metadata": {},
   "outputs": [
    {
     "name": "stdout",
     "output_type": "stream",
     "text": [
      "root\n",
      " |-- Accident_Index: string (nullable = true)\n",
      " |-- Longitude: double (nullable = true)\n",
      " |-- Latitude: double (nullable = true)\n",
      " |-- Police_Force: string (nullable = true)\n",
      " |-- Accident_Severity: string (nullable = true)\n",
      " |-- Number_of_Vehicles: double (nullable = true)\n",
      " |-- Number_of_Casualties: double (nullable = true)\n",
      " |-- Date: string (nullable = true)\n",
      " |-- Day_of_Week: double (nullable = true)\n",
      " |-- Time: string (nullable = true)\n",
      " |-- 1st_Road_Class: string (nullable = true)\n",
      " |-- Road_Type: string (nullable = true)\n",
      " |-- Speed_limit: double (nullable = true)\n",
      " |-- Junction_Detail: double (nullable = true)\n",
      " |-- Pedestrian_Crossing-Human_Control: string (nullable = true)\n",
      " |-- Pedestrian_Crossing-Physical_Facilities: string (nullable = true)\n",
      " |-- Light_Conditions: string (nullable = true)\n",
      " |-- Weather_Conditions: string (nullable = true)\n",
      " |-- Road_Surface_Conditions: string (nullable = true)\n",
      " |-- Special_Conditions_at_Site: string (nullable = true)\n",
      " |-- Carriageway_Hazards: string (nullable = true)\n",
      " |-- Urban_or_Rural_Area: string (nullable = true)\n",
      "\n"
     ]
    }
   ],
   "source": [
    "# 3.1 select\n",
    "dfacc_sele = dfacc.select('Accident_Index','Longitude','Latitude','Police_Force', 'Accident_Severity', 'Number_of_Vehicles', \n",
    "                     'Number_of_Casualties', 'Date', 'Day_of_Week', 'Time', '1st_Road_Class', 'Road_Type', 'Speed_limit', \n",
    "                     'Junction_Detail', 'Pedestrian_Crossing-Human_Control', 'Pedestrian_Crossing-Physical_Facilities', \n",
    "                     'Light_Conditions', 'Weather_Conditions', 'Road_Surface_Conditions', 'Special_Conditions_at_Site', \n",
    "                     'Carriageway_Hazards', 'Urban_or_Rural_Area')\n",
    "dfacc_sele.printSchema()"
   ]
  },
  {
   "cell_type": "code",
   "execution_count": 19,
   "metadata": {},
   "outputs": [
    {
     "name": "stdout",
     "output_type": "stream",
     "text": [
      "root\n",
      " |-- Accident_Index: string (nullable = true)\n",
      " |-- Vehicle_Reference: string (nullable = true)\n",
      " |-- Casualty_Class: string (nullable = true)\n",
      " |-- Sex_of_Casualty: string (nullable = true)\n",
      " |-- Age_of_Casualty: double (nullable = true)\n",
      " |-- Pedestrian_Location: string (nullable = true)\n",
      " |-- Pedestrian_Movement: string (nullable = true)\n",
      " |-- Car_Passenger: string (nullable = true)\n",
      " |-- Bus_or_Coach_Passenger: string (nullable = true)\n",
      " |-- Casualty_Type: string (nullable = true)\n",
      "\n"
     ]
    }
   ],
   "source": [
    "dfcas_sele = dfcas.select('Accident_Index', 'Vehicle_Reference','Casualty_Class', 'Sex_of_Casualty', 'Age_of_Casualty',\n",
    "              'Pedestrian_Location','Pedestrian_Movement', 'Car_Passenger', 'Bus_or_Coach_Passenger', 'Casualty_Type')\n",
    "\n",
    "dfcas_sele.printSchema()"
   ]
  },
  {
   "cell_type": "code",
   "execution_count": 20,
   "metadata": {},
   "outputs": [
    {
     "name": "stdout",
     "output_type": "stream",
     "text": [
      "(136621, 136575) (136575, 136575)\n"
     ]
    }
   ],
   "source": [
    "# 3.2 clean Accident_2016 null\n",
    "before = dfacc_sele.count()\n",
    "dfacc_sele_after = dfacc_sele.na.drop()\n",
    "after = dfacc_sele_after.count()\n",
    "\n",
    "check_before = dfacc_sele_after.count()\n",
    "check_after = dfacc_sele_after.na.drop()\n",
    "check_after = check_after.count()\n",
    "print((before,after),(check_before,check_after))"
   ]
  },
  {
   "cell_type": "code",
   "execution_count": 21,
   "metadata": {},
   "outputs": [
    {
     "name": "stdout",
     "output_type": "stream",
     "text": [
      "181384 181384\n"
     ]
    }
   ],
   "source": [
    "before = dfcas_sele.count()\n",
    "dfcas_sele_after = dfcas_sele.na.drop()\n",
    "after = dfcas_sele_after.count()\n",
    "print(before,after)"
   ]
  },
  {
   "cell_type": "code",
   "execution_count": 22,
   "metadata": {},
   "outputs": [
    {
     "name": "stdout",
     "output_type": "stream",
     "text": [
      "Latitude                   0\n",
      "Number_of_Vehicles      2554\n",
      "Number_of_Casualties       0\n",
      "Day_of_Week                0\n",
      "Speed_limit                0\n",
      "dtype: int64\n"
     ]
    }
   ],
   "source": [
    "remove_outlier = dfacc_sele_after.toPandas()\n",
    "\n",
    "filt_acciSub = remove_outlier[['Latitude','Number_of_Vehicles','Number_of_Casualties']]\n",
    "Q1L = filt_acciSub['Latitude'].quantile(0.1)\n",
    "Q3L = filt_acciSub['Latitude'].quantile(0.9)\n",
    "IQRL = Q3L - Q1L\n",
    "lowL = Q1L - 1.5 * IQRL\n",
    "highL = Q3L + 1.5 * IQRL\n",
    "remove_outlier = remove_outlier[(remove_outlier['Latitude']>lowL)&(remove_outlier['Latitude']<highL)]\n",
    "\n",
    "Q1V = filt_acciSub['Number_of_Vehicles'].quantile(0.1)\n",
    "Q3V = filt_acciSub['Number_of_Vehicles'].quantile(0.9)\n",
    "IQRV = Q3V - Q1V\n",
    "lowV = Q1V - 1.5 * IQRV\n",
    "highV = Q3V + 1.5 * IQRV\n",
    "remove_outlier = remove_outlier[(remove_outlier['Number_of_Vehicles']>lowV)&\n",
    "                                (remove_outlier['Number_of_Vehicles']<highV)]\n",
    "\n",
    "Q1C = filt_acciSub['Number_of_Casualties'].quantile(0.1)\n",
    "Q3C = filt_acciSub['Number_of_Casualties'].quantile(0.9)\n",
    "IQRC = Q3C - Q1C\n",
    "lowC = Q1C - 1.5 * IQRC\n",
    "highC = Q3C + 1.5 * IQRC\n",
    "remove_outlier = remove_outlier[(remove_outlier['Number_of_Casualties']>lowC)&\n",
    "                                (remove_outlier['Number_of_Casualties']<highC)]\n",
    "\n",
    "filt_acciSub = remove_outlier[['Latitude','Number_of_Vehicles','Number_of_Casualties','Day_of_Week','Speed_limit']]\n",
    "Q11 = filt_acciSub.quantile(0.1)\n",
    "Q33 = filt_acciSub.quantile(0.9)\n",
    "IQR = Q33 - Q11\n",
    "\n",
    "print(((filt_acciSub < (Q11 - 1.5 * IQR)) | (filt_acciSub > (Q33 + 1.5 * IQR))).sum())"
   ]
  },
  {
   "cell_type": "code",
   "execution_count": 23,
   "metadata": {},
   "outputs": [],
   "source": [
    "# exported file has been included in repository\n",
    "#remove_outlier.to_csv(\"./remove_outlier.csv\",index=False)"
   ]
  },
  {
   "cell_type": "code",
   "execution_count": 2,
   "metadata": {},
   "outputs": [
    {
     "name": "stdout",
     "output_type": "stream",
     "text": [
      "+-----------+\n",
      "|Time_period|\n",
      "+-----------+\n",
      "|          1|\n",
      "|          1|\n",
      "|          1|\n",
      "|          3|\n",
      "|          2|\n",
      "|          3|\n",
      "|          2|\n",
      "|          3|\n",
      "|          3|\n",
      "|          3|\n",
      "|          3|\n",
      "|          3|\n",
      "|          2|\n",
      "|          2|\n",
      "|          3|\n",
      "|          2|\n",
      "|          3|\n",
      "|          2|\n",
      "|          2|\n",
      "|          4|\n",
      "+-----------+\n",
      "only showing top 20 rows\n",
      "\n"
     ]
    }
   ],
   "source": [
    "# 3.3 construct data\n",
    "from pyspark.sql.functions import *\n",
    "\n",
    "dfacc_sele_after = spark.read.load(\"./remove_outlier.csv\",format=\"csv\",header=\"true\")\n",
    "dfacc_sele_after = dfacc_sele_after.withColumn('Time',hour(dfacc_sele_after.Time))\n",
    "dfacc_sele_after=dfacc_sele_after.withColumn('Time_period', when((col('Time') <= 4) & (col('Time') >= 0), '1').\n",
    "                            otherwise( when((col('Time') <= 8) & (col('Time') > 4), '2').\n",
    "                            otherwise( when((col('Time') <= 12) & (col('Time') >= 8), '3').\n",
    "                            otherwise( when((col('Time') <= 16) & (col('Time') >= 12), '4').\n",
    "                            otherwise( when((col('Time') <= 20) & (col('Time') >= 16), '5').\n",
    "                            otherwise('6'))))))\n",
    "\n",
    "dfacc_sele_after.select('Time_period').show()"
   ]
  },
  {
   "cell_type": "code",
   "execution_count": 3,
   "metadata": {},
   "outputs": [
    {
     "ename": "NameError",
     "evalue": "name 'dfcas_sele_after' is not defined",
     "output_type": "error",
     "traceback": [
      "\u001b[0;31m---------------------------------------------------------------------------\u001b[0m",
      "\u001b[0;31mNameError\u001b[0m                                 Traceback (most recent call last)",
      "\u001b[0;32m<ipython-input-3-e735a4f823b5>\u001b[0m in \u001b[0;36m<module>\u001b[0;34m()\u001b[0m\n\u001b[1;32m      1\u001b[0m \u001b[0mdfacc_sele_after\u001b[0m\u001b[0;34m.\u001b[0m\u001b[0mtoPandas\u001b[0m\u001b[0;34m(\u001b[0m\u001b[0;34m)\u001b[0m\u001b[0;34m.\u001b[0m\u001b[0mto_csv\u001b[0m\u001b[0;34m(\u001b[0m\u001b[0;34m'dfacc_sele.csv'\u001b[0m\u001b[0;34m,\u001b[0m\u001b[0mindex\u001b[0m\u001b[0;34m=\u001b[0m\u001b[0;32mFalse\u001b[0m\u001b[0;34m)\u001b[0m\u001b[0;34m\u001b[0m\u001b[0m\n\u001b[0;32m----> 2\u001b[0;31m \u001b[0mdfcas_sele_after\u001b[0m\u001b[0;34m.\u001b[0m\u001b[0mtoPandas\u001b[0m\u001b[0;34m(\u001b[0m\u001b[0;34m)\u001b[0m\u001b[0;34m.\u001b[0m\u001b[0mto_csv\u001b[0m\u001b[0;34m(\u001b[0m\u001b[0;34m'dfcas_sele.csv'\u001b[0m\u001b[0;34m,\u001b[0m\u001b[0mindex\u001b[0m\u001b[0;34m=\u001b[0m\u001b[0;32mFalse\u001b[0m\u001b[0;34m)\u001b[0m\u001b[0;34m\u001b[0m\u001b[0m\n\u001b[0m",
      "\u001b[0;31mNameError\u001b[0m: name 'dfcas_sele_after' is not defined"
     ]
    }
   ],
   "source": [
    "# two exported files has been included in the repository\n",
    "#dfacc_sele_after.toPandas().to_csv('dfacc_sele.csv',index=False)\n",
    "#dfcas_sele_after.toPandas().to_csv('dfcas_sele.csv',index=False)"
   ]
  },
  {
   "cell_type": "code",
   "execution_count": 19,
   "metadata": {},
   "outputs": [
    {
     "name": "stdout",
     "output_type": "stream",
     "text": [
      "Index(['Accident_Index', 'Longitude', 'Latitude', 'Police_Force',\n",
      "       'Accident_Severity', 'Number_of_Vehicles', 'Number_of_Casualties',\n",
      "       'Date', 'Day_of_Week', 'Time', '1st_Road_Class', 'Road_Type',\n",
      "       'Speed_limit', 'Junction_Detail', 'Pedestrian_Crossing-Human_Control',\n",
      "       'Pedestrian_Crossing-Physical_Facilities', 'Light_Conditions',\n",
      "       'Weather_Conditions', 'Road_Surface_Conditions',\n",
      "       'Special_Conditions_at_Site', 'Carriageway_Hazards',\n",
      "       'Urban_or_Rural_Area', 'Time_period', 'Vehicle_Reference',\n",
      "       'Casualty_Class', 'Sex_of_Casualty', 'Age_of_Casualty',\n",
      "       'Pedestrian_Location', 'Pedestrian_Movement', 'Car_Passenger',\n",
      "       'Bus_or_Coach_Passenger', 'Casualty_Type'],\n",
      "      dtype='object')\n",
      "<class 'pandas.core.frame.DataFrame'>\n",
      "Int64Index: 165329 entries, 0 to 165328\n",
      "Data columns (total 32 columns):\n",
      "Accident_Index                             165329 non-null object\n",
      "Longitude                                  165329 non-null float64\n",
      "Latitude                                   165329 non-null float64\n",
      "Police_Force                               165329 non-null int64\n",
      "Accident_Severity                          165329 non-null int64\n",
      "Number_of_Vehicles                         165329 non-null float64\n",
      "Number_of_Casualties                       165329 non-null float64\n",
      "Date                                       165329 non-null object\n",
      "Day_of_Week                                165329 non-null float64\n",
      "Time                                       165329 non-null int64\n",
      "1st_Road_Class                             165329 non-null int64\n",
      "Road_Type                                  165329 non-null int64\n",
      "Speed_limit                                165329 non-null float64\n",
      "Junction_Detail                            165329 non-null float64\n",
      "Pedestrian_Crossing-Human_Control          165329 non-null int64\n",
      "Pedestrian_Crossing-Physical_Facilities    165329 non-null int64\n",
      "Light_Conditions                           165329 non-null int64\n",
      "Weather_Conditions                         165329 non-null int64\n",
      "Road_Surface_Conditions                    165329 non-null int64\n",
      "Special_Conditions_at_Site                 165329 non-null int64\n",
      "Carriageway_Hazards                        165329 non-null int64\n",
      "Urban_or_Rural_Area                        165329 non-null int64\n",
      "Time_period                                165329 non-null int64\n",
      "Vehicle_Reference                          165329 non-null int64\n",
      "Casualty_Class                             165329 non-null int64\n",
      "Sex_of_Casualty                            165329 non-null int64\n",
      "Age_of_Casualty                            165329 non-null float64\n",
      "Pedestrian_Location                        165329 non-null int64\n",
      "Pedestrian_Movement                        165329 non-null int64\n",
      "Car_Passenger                              165329 non-null int64\n",
      "Bus_or_Coach_Passenger                     165329 non-null int64\n",
      "Casualty_Type                              165329 non-null int64\n",
      "dtypes: float64(8), int64(22), object(2)\n",
      "memory usage: 41.6+ MB\n",
      "None\n"
     ]
    }
   ],
   "source": [
    "# 3.4 Integrate data\n",
    "acc_m = pandas.read_csv(\"./dfacc_sele.csv\")\n",
    "cas_m = pandas.read_csv(\"./dfcas_sele.csv\")\n",
    "\n",
    "merged = acc_m.merge(cas_m, on='Accident_Index', how=\"inner\")\n",
    "print(merged.columns)\n",
    "\n",
    "print(merged.info())\n"
   ]
  },
  {
   "cell_type": "code",
   "execution_count": 20,
   "metadata": {},
   "outputs": [
    {
     "name": "stdout",
     "output_type": "stream",
     "text": [
      "Day_of_Week                                0.006369\n",
      "Pedestrian_Crossing-Human_Control          0.006590\n",
      "Carriageway_Hazards                        0.006599\n",
      "Time_period                                0.006795\n",
      "1st_Road_Class                             0.007378\n",
      "Time                                       0.010775\n",
      "Special_Conditions_at_Site                 0.010918\n",
      "Road_Surface_Conditions                    0.011871\n",
      "Weather_Conditions                         0.013766\n",
      "Bus_or_Coach_Passenger                     0.028875\n",
      "Pedestrian_Crossing-Physical_Facilities    0.028925\n",
      "Latitude                                   0.035880\n",
      "Road_Type                                  0.038245\n",
      "Longitude                                  0.040241\n",
      "Car_Passenger                              0.040464\n",
      "Pedestrian_Movement                        0.049237\n",
      "Number_of_Casualties                       0.049420\n",
      "Casualty_Class                             0.049625\n",
      "Junction_Detail                            0.050686\n",
      "Police_Force                               0.060441\n",
      "Light_Conditions                           0.061053\n",
      "Pedestrian_Location                        0.064218\n",
      "Age_of_Casualty                            0.077102\n",
      "Vehicle_Reference                          0.077670\n",
      "Number_of_Vehicles                         0.082107\n",
      "Casualty_Type                              0.083202\n",
      "Sex_of_Casualty                            0.087013\n",
      "Speed_limit                                0.097938\n",
      "Urban_or_Rural_Area                        0.106180\n",
      "Accident_Severity                          1.000000\n",
      "Name: Accident_Severity, dtype: float64\n",
      "Index(['Longitude', 'Latitude', 'Police_Force', 'Accident_Severity',\n",
      "       'Number_of_Vehicles', 'Number_of_Casualties', 'Road_Type',\n",
      "       'Speed_limit', 'Junction_Detail',\n",
      "       'Pedestrian_Crossing-Physical_Facilities', 'Light_Conditions',\n",
      "       'Weather_Conditions', 'Road_Surface_Conditions',\n",
      "       'Special_Conditions_at_Site', 'Urban_or_Rural_Area', 'Time_period',\n",
      "       'Vehicle_Reference', 'Casualty_Class', 'Sex_of_Casualty',\n",
      "       'Age_of_Casualty', 'Pedestrian_Location', 'Pedestrian_Movement',\n",
      "       'Car_Passenger', 'Bus_or_Coach_Passenger', 'Casualty_Type'],\n",
      "      dtype='object')\n"
     ]
    }
   ],
   "source": [
    "# 4.1 reduce the data\n",
    "from sklearn import preprocessing\n",
    "\n",
    "le = preprocessing.LabelEncoder()\n",
    "encoded_value = le.fit_transform([])\n",
    "\n",
    "merged['Accident_Severity'] = le.fit_transform(merged['Accident_Severity'])\n",
    "merged['1st_Road_Class'] = le.fit_transform(merged['1st_Road_Class'])\n",
    "merged['Road_Type'] = le.fit_transform(merged['Road_Type'])\n",
    "merged['Pedestrian_Crossing-Human_Control'] = le.fit_transform(merged['Pedestrian_Crossing-Human_Control'])\n",
    "merged['Pedestrian_Crossing-Physical_Facilities'] = le.fit_transform(merged['Pedestrian_Crossing-Physical_Facilities'])\n",
    "merged['Light_Conditions'] = le.fit_transform(merged['Light_Conditions'])\n",
    "merged['Weather_Conditions'] = le.fit_transform(merged['Weather_Conditions'])\n",
    "merged['Road_Surface_Conditions'] = le.fit_transform(merged['Road_Surface_Conditions'])\n",
    "merged['Special_Conditions_at_Site'] = le.fit_transform(merged['Special_Conditions_at_Site'])\n",
    "merged['Carriageway_Hazards'] = le.fit_transform(merged['Carriageway_Hazards'])\n",
    "merged['Urban_or_Rural_Area'] = le.fit_transform(merged['Urban_or_Rural_Area'])\n",
    "merged['Vehicle_Reference'] = le.fit_transform(merged['Vehicle_Reference'])\n",
    "merged['Casualty_Class'] = le.fit_transform(merged['Casualty_Class'])\n",
    "merged['Sex_of_Casualty'] = le.fit_transform(merged['Sex_of_Casualty'])\n",
    "merged['Pedestrian_Location'] = le.fit_transform(merged['Pedestrian_Location'])\n",
    "merged['Pedestrian_Movement'] = le.fit_transform(merged['Pedestrian_Movement'])\n",
    "merged['Car_Passenger'] = le.fit_transform(merged['Car_Passenger'])\n",
    "merged['Bus_or_Coach_Passenger'] = le.fit_transform(merged['Bus_or_Coach_Passenger'])\n",
    "merged['Casualty_Type'] = le.fit_transform(merged['Casualty_Type'])\n",
    "\n",
    "merged['Age_of_Casualty'].replace(-1,0).describe()\n",
    "merged['Junction_Detail'].replace(-1,0).describe()\n",
    "merged['Speed_limit'].describe()\n",
    "merged['Day_of_Week'].describe()\n",
    "merged['Number_of_Vehicles'].describe()\n",
    "merged['Number_of_Casualties'].describe()\n",
    "merged['Police_Force'].describe()\n",
    "merged['Day_of_Week'].describe()\n",
    "\n",
    "kk = merged.corr()['Accident_Severity'].abs().sort_values(kind='quicksort')\n",
    "print(kk)\n",
    "\n",
    "merged=merged.drop(columns=['Time','Date','Accident_Index',\n",
    "                            'Day_of_Week','Pedestrian_Crossing-Human_Control','Carriageway_Hazards',\n",
    "                            '1st_Road_Class'])\n",
    "print(merged.columns)\n",
    "\n",
    "# exported file has been included in repository\n",
    "#merged.to_csv('./dm1.csv',index=False)\n"
   ]
  },
  {
   "cell_type": "code",
   "execution_count": 21,
   "metadata": {},
   "outputs": [
    {
     "name": "stdout",
     "output_type": "stream",
     "text": [
      "2    136835\n",
      "1     26262\n",
      "0      2232\n",
      "Name: Accident_Severity, dtype: int64\n",
      "1    10077\n",
      "0    10009\n",
      "2     9740\n",
      "Name: Accident_Severity, dtype: int64\n"
     ]
    },
    {
     "data": {
      "text/plain": [
       "\"\\nclass_slight = merged[merged['Accident_Severity']==2].sample(5000)\\nclass_severity = merged[merged['Accident_Severity']==1].sample(5000)\\nclass_fetal = merged[merged['Accident_Severity']==0].sample(5000,replace=True)\\nmerged=pandas.concat([class_slight, class_severity,class_fetal],axis=0)\\n\\nprint (merged['Accident_Severity'].value_counts())\\nsns.countplot('Accident_Severity',data=merged,hue='Accident_Severity')\\nmerged.to_csv('./merge_sample.csv',index=False)\\n\""
      ]
     },
     "execution_count": 21,
     "metadata": {},
     "output_type": "execute_result"
    },
    {
     "data": {
      "image/png": "[encoded data removed]",
      "text/plain": [
       "<Figure size 432x288 with 1 Axes>"
      ]
     },
     "metadata": {},
     "output_type": "display_data"
    }
   ],
   "source": [
    "# 4.2 project the data\n",
    "from pyspark.sql.functions import col\n",
    "\n",
    "print (merged['Accident_Severity'].value_counts())\n",
    "#sns.countplot('Accident_Severity',data=merged,hue='Accident_Severity')\n",
    "\n",
    "df = spark.read.load(\"./dm1.csv\",format=\"csv\",header=\"true\")\n",
    "\n",
    "major_df = df.filter(col(\"Accident_Severity\") == 2)\n",
    "middle_df = df.filter(col(\"Accident_Severity\") == 1)\n",
    "minor_df = df.filter(col(\"Accident_Severity\") == 0)\n",
    "\n",
    "sampled_majority_df = major_df.sample(False, 10000/major_df.count())\n",
    "sampled_middle_df = middle_df.sample(False, 10000/middle_df.count())\n",
    "sampled_minor_df = minor_df.sample(True, 10000/minor_df.count())\n",
    "combined_df_2 = sampled_majority_df.unionAll(sampled_minor_df)\n",
    "combined_df_2 = combined_df_2.unionAll(sampled_middle_df)\n",
    "\n",
    "combined_df = combined_df_2.toPandas()\n",
    "print(combined_df['Accident_Severity'].value_counts())\n",
    "sns.countplot('Accident_Severity',data=combined_df,hue='Accident_Severity')\n",
    "\n",
    "# exported file has been in the repository\n",
    "#combined_df.to_csv('./merge_sample1.csv',index=False)\n"
   ]
  },
  {
   "cell_type": "code",
   "execution_count": 2,
   "metadata": {},
   "outputs": [
    {
     "data": {
      "text/plain": [
       "['Longitude',\n",
       " 'Latitude',\n",
       " 'Police_Force',\n",
       " 'Accident_Severity',\n",
       " 'Number_of_Vehicles',\n",
       " 'Number_of_Casualties',\n",
       " 'Road_Type',\n",
       " 'Speed_limit',\n",
       " 'Junction_Detail',\n",
       " 'Pedestrian_Crossing-Physical_Facilities',\n",
       " 'Light_Conditions',\n",
       " 'Weather_Conditions',\n",
       " 'Road_Surface_Conditions',\n",
       " 'Special_Conditions_at_Site',\n",
       " 'Urban_or_Rural_Area',\n",
       " 'Time_period',\n",
       " 'Vehicle_Reference',\n",
       " 'Casualty_Class',\n",
       " 'Sex_of_Casualty',\n",
       " 'Age_of_Casualty',\n",
       " 'Pedestrian_Location',\n",
       " 'Pedestrian_Movement',\n",
       " 'Car_Passenger',\n",
       " 'Bus_or_Coach_Passenger',\n",
       " 'Casualty_Type']"
      ]
     },
     "execution_count": 2,
     "metadata": {},
     "output_type": "execute_result"
    }
   ],
   "source": [
    "# 7.1 logical test\n",
    "\n",
    "from pyspark.ml.linalg import Vectors\n",
    "from pyspark.ml.feature import VectorAssembler\n",
    "\n",
    "merge_s = spark.read.load(\"./merge_sample1.csv\",format=\"csv\",header=\"true\")\n",
    "merge_s.columns"
   ]
  },
  {
   "cell_type": "code",
   "execution_count": 3,
   "metadata": {},
   "outputs": [],
   "source": [
    "assembler = VectorAssembler(\n",
    "  inputCols=['Longitude',\n",
    " 'Latitude',\n",
    " 'Police_Force',\n",
    " 'Number_of_Vehicles',\n",
    " 'Number_of_Casualties',\n",
    " 'Road_Type',\n",
    " 'Speed_limit',\n",
    " 'Junction_Detail',\n",
    " 'Pedestrian_Crossing-Physical_Facilities',\n",
    " 'Light_Conditions',\n",
    " 'Weather_Conditions',\n",
    " 'Road_Surface_Conditions',\n",
    " 'Special_Conditions_at_Site',\n",
    " 'Urban_or_Rural_Area',\n",
    " 'Time_period',\n",
    " 'Vehicle_Reference',\n",
    " 'Casualty_Class',\n",
    " 'Sex_of_Casualty',\n",
    " 'Age_of_Casualty',\n",
    " 'Pedestrian_Location',\n",
    " 'Pedestrian_Movement',\n",
    " 'Car_Passenger',\n",
    " 'Bus_or_Coach_Passenger',\n",
    " 'Casualty_Type'],\n",
    "              outputCol=\"features\")\n"
   ]
  },
  {
   "cell_type": "code",
   "execution_count": 4,
   "metadata": {},
   "outputs": [],
   "source": [
    "from pyspark.sql.types import DoubleType\n",
    "from pyspark.ml.feature import StringIndexer\n",
    "\n",
    "for t in ['Longitude',\n",
    " 'Latitude',\n",
    " 'Police_Force',\n",
    " 'Number_of_Vehicles',\n",
    " 'Number_of_Casualties',\n",
    " 'Road_Type',\n",
    " 'Speed_limit',\n",
    " 'Junction_Detail',\n",
    " 'Pedestrian_Crossing-Physical_Facilities',\n",
    " 'Light_Conditions',\n",
    " 'Weather_Conditions',\n",
    " 'Road_Surface_Conditions',\n",
    " 'Special_Conditions_at_Site',\n",
    " 'Urban_or_Rural_Area',\n",
    " 'Time_period',\n",
    " 'Vehicle_Reference',\n",
    " 'Casualty_Class',\n",
    " 'Sex_of_Casualty',\n",
    " 'Age_of_Casualty',\n",
    " 'Pedestrian_Location',\n",
    " 'Pedestrian_Movement',\n",
    " 'Car_Passenger',\n",
    " 'Bus_or_Coach_Passenger',\n",
    " 'Casualty_Type']:\n",
    "    merge_s = merge_s.withColumn(t, merge_s[t].cast(DoubleType()))\n",
    "\n",
    "output = assembler.transform(merge_s)\n",
    "indexer = StringIndexer(inputCol=\"Accident_Severity\", outputCol=\"AccSeverityIndex\")\n",
    "output_fixed = indexer.fit(output).transform(output)\n",
    "final_data = output_fixed.select(\"features\",'AccSeverityIndex')\n",
    "train_data,test_data = final_data.randomSplit([0.8,0.2])\n"
   ]
  },
  {
   "cell_type": "code",
   "execution_count": 5,
   "metadata": {},
   "outputs": [],
   "source": [
    "from pyspark.ml.classification import DecisionTreeClassifier,GBTClassifier,RandomForestClassifier\n",
    "from pyspark.ml import Pipeline\n",
    "from pyspark.ml.evaluation import MulticlassClassificationEvaluator"
   ]
  },
  {
   "cell_type": "code",
   "execution_count": 6,
   "metadata": {},
   "outputs": [],
   "source": [
    "dtc1 = DecisionTreeClassifier(labelCol='AccSeverityIndex',featuresCol='features',maxBins=100,impurity=\"gini\")\n",
    "dtc2 = DecisionTreeClassifier(labelCol='AccSeverityIndex',featuresCol='features',maxBins=100,impurity=\"entropy\")\n",
    "dtc3 = DecisionTreeClassifier(labelCol='AccSeverityIndex',featuresCol='features',maxBins=150,impurity=\"gini\")\n",
    "dtc4 = DecisionTreeClassifier(labelCol='AccSeverityIndex',featuresCol='features',maxBins=150,impurity=\"entropy\")\n",
    "\n",
    "\n",
    "rfc1 = RandomForestClassifier(labelCol='AccSeverityIndex',featuresCol='features',numTrees=100,impurity=\"gini\")\n",
    "rfc2 = RandomForestClassifier(labelCol='AccSeverityIndex',featuresCol='features',numTrees=100,impurity=\"entropy\")\n",
    "rfc3 = RandomForestClassifier(labelCol='AccSeverityIndex',featuresCol='features',numTrees=150,impurity=\"gini\")\n",
    "rfc4 = RandomForestClassifier(labelCol='AccSeverityIndex',featuresCol='features',numTrees=150,impurity=\"entropy\")\n"
   ]
  },
  {
   "cell_type": "code",
   "execution_count": 7,
   "metadata": {},
   "outputs": [],
   "source": [
    "\n",
    "dtc_model1 = dtc1.fit(train_data)\n",
    "dtc_model2 = dtc2.fit(train_data)\n",
    "dtc_model3 = dtc3.fit(train_data)\n",
    "dtc_model4 = dtc4.fit(train_data)\n",
    "\n",
    "\n",
    "rfc_model1 = rfc1.fit(train_data)\n",
    "rfc_model2 = rfc2.fit(train_data)\n",
    "rfc_model3 = rfc3.fit(train_data)\n",
    "rfc_model4 = rfc4.fit(train_data)\n",
    "\n"
   ]
  },
  {
   "cell_type": "code",
   "execution_count": 8,
   "metadata": {},
   "outputs": [],
   "source": [
    "\n",
    "dtc_predictions1 = dtc_model1.transform(test_data)\n",
    "dtc_predictions2 = dtc_model2.transform(test_data)\n",
    "dtc_predictions3 = dtc_model3.transform(test_data)\n",
    "dtc_predictions4 = dtc_model4.transform(test_data)\n",
    "\n",
    "\n",
    "rfc_predictions1 = rfc_model1.transform(test_data)\n",
    "rfc_predictions2 = rfc_model2.transform(test_data)\n",
    "rfc_predictions3 = rfc_model3.transform(test_data)\n",
    "rfc_predictions4 = rfc_model4.transform(test_data)\n"
   ]
  },
  {
   "cell_type": "code",
   "execution_count": 9,
   "metadata": {},
   "outputs": [
    {
     "name": "stdout",
     "output_type": "stream",
     "text": [
      "Here are the results!\n",
      "----------------------------------------\n",
      "A single decision tree(100,gini) has an accuracy of: 53.01%\n",
      "A single decision tree(100,entropy) has an accuracy of: 52.44%\n",
      "A single decision tree(150,gini) has an accuracy of: 53.01%\n",
      "A single decision tree(150,entropy) has an accuracy of: 52.44%\n",
      "----------------------------------------\n",
      "A random forest ensemble(100,gini) has an accuracy of: 54.49%\n",
      "A random forest ensemble(100,entropy) has an accuracy of: 54.66%\n",
      "A random forest ensemble(150,gini) has an accuracy of: 54.65%\n",
      "A random forest ensemble(150,entropy) has an accuracy of: 54.16%\n",
      "----------------------------------------\n"
     ]
    }
   ],
   "source": [
    "acc_evaluator = MulticlassClassificationEvaluator(labelCol='AccSeverityIndex',\n",
    "                                                  predictionCol='prediction',metricName=\"accuracy\")\n",
    "\n",
    "dtc_acc1 = acc_evaluator.evaluate(dtc_predictions1)\n",
    "dtc_acc2 = acc_evaluator.evaluate(dtc_predictions2)\n",
    "dtc_acc3 = acc_evaluator.evaluate(dtc_predictions3)\n",
    "dtc_acc4 = acc_evaluator.evaluate(dtc_predictions4)\n",
    "\n",
    "\n",
    "rfc_acc1 = acc_evaluator.evaluate(rfc_predictions1)\n",
    "rfc_acc2 = acc_evaluator.evaluate(rfc_predictions2)\n",
    "rfc_acc3 = acc_evaluator.evaluate(rfc_predictions3)\n",
    "rfc_acc4 = acc_evaluator.evaluate(rfc_predictions4)\n",
    "\n",
    "\n",
    "print(\"Here are the results!\")\n",
    "print('-'*40)\n",
    "print('A single decision tree(100,gini) has an accuracy of: {0:2.2f}%'.format(dtc_acc1*100))\n",
    "print('A single decision tree(100,entropy) has an accuracy of: {0:2.2f}%'.format(dtc_acc2*100))\n",
    "print('A single decision tree(150,gini) has an accuracy of: {0:2.2f}%'.format(dtc_acc3*100))\n",
    "print('A single decision tree(150,entropy) has an accuracy of: {0:2.2f}%'.format(dtc_acc4*100))\n",
    "\n",
    "print('-'*40)\n",
    "print('A random forest ensemble(100,gini) has an accuracy of: {0:2.2f}%'.format(rfc_acc1*100))\n",
    "print('A random forest ensemble(100,entropy) has an accuracy of: {0:2.2f}%'.format(rfc_acc2*100))\n",
    "print('A random forest ensemble(150,gini) has an accuracy of: {0:2.2f}%'.format(rfc_acc3*100))\n",
    "print('A random forest ensemble(150,entropy) has an accuracy of: {0:2.2f}%'.format(rfc_acc4*100))\n",
    "print('-'*40)\n"
   ]
  },
  {
   "cell_type": "code",
   "execution_count": 10,
   "metadata": {},
   "outputs": [
    {
     "data": {
      "image/png": "[encoded data removed]",
      "text/plain": [
       "<Figure size 432x288 with 1 Axes>"
      ]
     },
     "metadata": {},
     "output_type": "display_data"
    }
   ],
   "source": [
    "from sklearn.metrics import accuracy_score\n",
    "from sklearn.metrics import confusion_matrix\n",
    "from sklearn.metrics import classification_report\n",
    "from sklearn.model_selection import train_test_split\n",
    "\n",
    "merged = pandas.read_csv(\"./merge_sample1.csv\")\n",
    "\n",
    "sns.countplot('Accident_Severity',data=merged,hue='Accident_Severity')\n",
    "\n",
    "\n",
    "cols=[col for col in merged.columns if col not in ['Accident_Index','Accident_Severity']]\n",
    "target = merged['Accident_Severity'].astype(\"category\")\n",
    "data = merged[cols]\n",
    "\n",
    "data_train,data_test,target_train,target_test = train_test_split(data, target,test_size=0.2,random_state=1)\n"
   ]
  },
  {
   "cell_type": "code",
   "execution_count": 23,
   "metadata": {},
   "outputs": [
    {
     "name": "stderr",
     "output_type": "stream",
     "text": [
      "/home/ubuntu/.local/lib/python3.5/site-packages/sklearn/neural_network/_multilayer_perceptron.py:571: ConvergenceWarning: Stochastic Optimizer: Maximum iterations (200) reached and the optimization hasn't converged yet.\n",
      "  % self.max_iter, ConvergenceWarning)\n"
     ]
    },
    {
     "name": "stdout",
     "output_type": "stream",
     "text": [
      "Neural_network accuracy(relu):  0.5574924572577942\n",
      "Neural_network accuracy(identity):  0.488434461951056\n",
      "Neural_network accuracy(logistic):  0.6040898424404961\n",
      "Neural_network accuracy(tanh):  0.6180020113979215\n"
     ]
    },
    {
     "name": "stderr",
     "output_type": "stream",
     "text": [
      "/home/ubuntu/.local/lib/python3.5/site-packages/sklearn/neural_network/_multilayer_perceptron.py:571: ConvergenceWarning: Stochastic Optimizer: Maximum iterations (200) reached and the optimization hasn't converged yet.\n",
      "  % self.max_iter, ConvergenceWarning)\n"
     ]
    }
   ],
   "source": [
    "# neural network\n",
    "from sklearn.neural_network import MLPClassifier\n",
    "\n",
    "model_N1 = MLPClassifier(activation='relu')\n",
    "model_N2 = MLPClassifier(activation='identity')\n",
    "model_N3 = MLPClassifier(activation='logistic')\n",
    "model_N4 = MLPClassifier(activation='tanh')\n",
    "\n",
    "model_N1.fit(data_train, target_train)\n",
    "model_N2.fit(data_train, target_train)\n",
    "model_N3.fit(data_train, target_train)\n",
    "model_N4.fit(data_train, target_train)\n",
    "predict_model_N1 = model_N1.predict(data_test)\n",
    "predict_model_N2 = model_N2.predict(data_test)\n",
    "predict_model_N3 = model_N3.predict(data_test)\n",
    "predict_model_N4 = model_N4.predict(data_test)\n",
    "\n",
    "print(\"Neural_network accuracy(relu): \",accuracy_score(target_test,predict_model_N1))\n",
    "print(\"Neural_network accuracy(identity): \",accuracy_score(target_test,predict_model_N2))\n",
    "print(\"Neural_network accuracy(logistic): \",accuracy_score(target_test,predict_model_N3))\n",
    "print(\"Neural_network accuracy(tanh): \",accuracy_score(target_test,predict_model_N4))\n",
    "\n"
   ]
  },
  {
   "cell_type": "code",
   "execution_count": 24,
   "metadata": {},
   "outputs": [
    {
     "name": "stdout",
     "output_type": "stream",
     "text": [
      "KNN accuracy(default):  0.4875283446712018\n",
      "KNN accuracy(n_neighbors = 10):  0.47505668934240364\n",
      "KNN accuracy(n_neighbors = 30):  0.48412698412698413\n"
     ]
    }
   ],
   "source": [
    "# knn \n",
    "from sklearn.neighbors import KNeighborsClassifier  \n",
    "\n",
    "model_K1=KNeighborsClassifier()\n",
    "model_K2=KNeighborsClassifier(n_neighbors=10)\n",
    "model_K3=KNeighborsClassifier(n_neighbors=30)\n",
    "\n",
    "model_K1.fit(data_train, target_train)\n",
    "model_K2.fit(data_train, target_train)\n",
    "model_K3.fit(data_train, target_train)\n",
    "predict_model_K1 = model_K1.predict(data_test)\n",
    "predict_model_K2 = model_K2.predict(data_test)\n",
    "predict_model_K3 = model_K3.predict(data_test)\n",
    "print(\"KNN accuracy(default): \",accuracy_score(target_test,predict_model_K1))\n",
    "print(\"KNN accuracy(n_neighbors = 10): \",accuracy_score(target_test,predict_model_K2))\n",
    "print(\"KNN accuracy(n_neighbors = 30): \",accuracy_score(target_test,predict_model_K3))\n"
   ]
  },
  {
   "cell_type": "code",
   "execution_count": 28,
   "metadata": {},
   "outputs": [
    {
     "name": "stdout",
     "output_type": "stream",
     "text": [
      "['Speed_limit', 'Casualty_Type', 'Age_of_Casualty', 'Number_of_Casualties', 'Junction_Detail', 'Urban_or_Rural_Area', 'Number_of_Vehicles', 'Light_Conditions', 'Police_Force', 'Vehicle_Reference', 'Sex_of_Casualty', 'Latitude', 'Casualty_Class', 'Pedestrian_Movement', 'Pedestrian_Location', 'Longitude', 'Road_Type', 'Time_period', 'Pedestrian_Crossing-Physical_Facilities', 'Car_Passenger', 'Bus_or_Coach_Passenger', 'Special_Conditions_at_Site', 'Road_Surface_Conditions', 'Weather_Conditions']\n"
     ]
    },
    {
     "data": {
      "image/png": "[encoded data removed]",
      "text/plain": [
       "<Figure size 432x288 with 1 Axes>"
      ]
     },
     "metadata": {},
     "output_type": "display_data"
    }
   ],
   "source": [
    "# feature importances\n",
    "rfc_model1.featureImportances\n",
    "columnHeader = ['Longitude',\n",
    " 'Latitude',\n",
    " 'Police_Force',\n",
    " 'Number_of_Vehicles',\n",
    " 'Number_of_Casualties',\n",
    " 'Road_Type',\n",
    " 'Speed_limit',\n",
    " 'Junction_Detail',\n",
    " 'Pedestrian_Crossing-Physical_Facilities',\n",
    " 'Light_Conditions',\n",
    " 'Weather_Conditions',\n",
    " 'Road_Surface_Conditions',\n",
    " 'Special_Conditions_at_Site',\n",
    " 'Urban_or_Rural_Area',\n",
    " 'Time_period',\n",
    " 'Vehicle_Reference',\n",
    " 'Casualty_Class',\n",
    " 'Sex_of_Casualty',\n",
    " 'Age_of_Casualty',\n",
    " 'Pedestrian_Location',\n",
    " 'Pedestrian_Movement',\n",
    " 'Car_Passenger',\n",
    " 'Bus_or_Coach_Passenger',\n",
    " 'Casualty_Type']\n",
    "compare = []\n",
    "for i in range(len(columnHeader)):\n",
    "    compare +=[rfc_model1.featureImportances[i]]\n",
    "compare_sort = compare[:]\n",
    "compare_sort.sort(reverse=True)\n",
    "ranking = []\n",
    "for j in compare_sort:\n",
    "    ranking += [columnHeader[compare.index(j)]]\n",
    "print(ranking)\n",
    "\n",
    "plt.bar(range(len(ranking[:10])), compare_sort[:10],tick_label=ranking[:10])\n",
    "plt.xticks(range(len(ranking[:10])), ranking[:10], rotation=90)\n",
    "plt.show()"
   ]
  },
  {
   "cell_type": "code",
   "execution_count": 12,
   "metadata": {},
   "outputs": [
    {
     "name": "stdout",
     "output_type": "stream",
     "text": [
      "[[ 784  705  493]\n",
      " [ 328 1411  247]\n",
      " [ 544  372 1045]]\n",
      "              precision    recall  f1-score   support\n",
      "\n",
      "         0.0       0.47      0.40      0.43      1982\n",
      "         1.0       0.57      0.71      0.63      1986\n",
      "         2.0       0.59      0.53      0.56      1961\n",
      "\n",
      "    accuracy                           0.55      5929\n",
      "   macro avg       0.54      0.55      0.54      5929\n",
      "weighted avg       0.54      0.55      0.54      5929\n",
      "\n"
     ]
    }
   ],
   "source": [
    "# confusion matrix\n",
    "\n",
    "df_pred = rfc_predictions1.select(\"prediction\").toPandas()\n",
    "df_test = test_data.select(\"AccSeverityIndex\").toPandas()\n",
    "print(confusion_matrix(df_test, df_pred))\n",
    "print(classification_report(df_test, df_pred)) \n"
   ]
  },
  {
   "cell_type": "code",
   "execution_count": null,
   "metadata": {},
   "outputs": [],
   "source": []
  }
 ],
 "metadata": {
  "kernelspec": {
   "display_name": "Python 3",
   "language": "python",
   "name": "python3"
  },
  "language_info": {
   "codemirror_mode": {
    "name": "ipython",
    "version": 3
   },
   "file_extension": ".py",
   "mimetype": "text/x-python",
   "name": "python",
   "nbconvert_exporter": "python",
   "pygments_lexer": "ipython3",
   "version": "3.5.2"
  }
 },
 "nbformat": 4,
 "nbformat_minor": 2
}
